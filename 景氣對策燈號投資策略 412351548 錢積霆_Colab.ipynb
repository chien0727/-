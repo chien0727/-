{
  "cells": [
    {
      "cell_type": "markdown",
      "metadata": {
        "id": "view-in-github",
        "colab_type": "text"
      },
      "source": [
        "<a href=\"https://colab.research.google.com/github/chien0727/-/blob/main/%E6%99%AF%E6%B0%A3%E5%B0%8D%E7%AD%96%E7%87%88%E8%99%9F%E6%8A%95%E8%B3%87%E7%AD%96%E7%95%A5%20412351548%20%E9%8C%A2%E7%A9%8D%E9%9C%86_Colab.ipynb\" target=\"_parent\"><img src=\"https://colab.research.google.com/assets/colab-badge.svg\" alt=\"Open In Colab\"/></a>"
      ]
    },
    {
      "cell_type": "code",
      "source": [
        "score = int(input(\"請輸入目前景氣對策燈號分數：\"))\n",
        "\n",
        "if score >= 9 and score <= 16:\n",
        "  signal = \"藍燈\"\n",
        "  recommendation = \"買進\"\n",
        "elif score >= 17 and score <= 22:\n",
        "  signal = \"黃藍燈\"\n",
        "  recommendation = \"維持目前部位\"\n",
        "elif score >= 23 and score <= 31:\n",
        "  signal = \"綠燈\"\n",
        "  recommendation = \"維持目前部位\"\n",
        "elif score >= 32 and score <= 37:\n",
        "  signal = \"黃紅燈\"\n",
        "  recommendation = \"維持目前部位\"\n",
        "elif score >= 38: # Score 38 and above is red light\n",
        "  signal = \"紅燈\"\n",
        "  recommendation = \"賣出\"\n",
        "else: # Scores less than 9 are invalid\n",
        "  signal = \"無效分數\"\n",
        "  recommendation = \"請輸入有效分數ㄚㄚㄚㄚㄚ (9-38或更高!!)\"\n",
        "\n",
        "\n",
        "print(f\"目前燈號為：{signal}\")\n",
        "print(f\"加減碼建議：{recommendation}\")"
      ],
      "metadata": {
        "colab": {
          "base_uri": "https://localhost:8080/"
        },
        "id": "dG4tBrMoTrAB",
        "outputId": "fe6d5fbd-54a6-424a-e0c7-32dd95fcb8ec"
      },
      "execution_count": 19,
      "outputs": [
        {
          "output_type": "stream",
          "name": "stdout",
          "text": [
            "請輸入目前景氣對策燈號分數：8\n",
            "目前燈號為：無效分數\n",
            "加減碼建議：請輸入有效分數ㄚㄚㄚㄚㄚ (9-38或更高!!)\n"
          ]
        }
      ]
    }
  ],
  "metadata": {
    "colab": {
      "name": "歡迎使用 Colab",
      "toc_visible": true,
      "provenance": [],
      "include_colab_link": true
    },
    "kernelspec": {
      "display_name": "Python 3",
      "name": "python3"
    }
  },
  "nbformat": 4,
  "nbformat_minor": 0
}